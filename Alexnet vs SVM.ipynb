{
 "cells": [
  {
   "cell_type": "code",
   "execution_count": 1,
   "metadata": {
    "executionInfo": {
     "elapsed": 30907,
     "status": "ok",
     "timestamp": 1750792588056,
     "user": {
      "displayName": "Muadh Mazahir",
      "userId": "10022503320677303432"
     },
     "user_tz": -60
    },
    "id": "_d5NReon-__e"
   },
   "outputs": [],
   "source": [
    "import torch\n",
    "import torchvision.models as models\n",
    "import torchvision.transforms as transforms\n",
    "from torchvision.datasets import CIFAR10\n",
    "from torch.utils.data import DataLoader, Subset\n",
    "from sklearn.svm import SVC\n",
    "from sklearn.preprocessing import StandardScaler\n",
    "from sklearn.metrics import accuracy_score\n",
    "import numpy as np\n",
    "import random"
   ]
  },
  {
   "cell_type": "code",
   "execution_count": 2,
   "metadata": {
    "executionInfo": {
     "elapsed": 13,
     "status": "ok",
     "timestamp": 1750792598870,
     "user": {
      "displayName": "Muadh Mazahir",
      "userId": "10022503320677303432"
     },
     "user_tz": -60
    },
    "id": "AArLHKzPXh6t"
   },
   "outputs": [],
   "source": [
    "# --- 1. Setup ---\n",
    "device = torch.device('cuda' if torch.cuda.is_available() else 'cpu')"
   ]
  },
  {
   "cell_type": "markdown",
   "metadata": {
    "id": "y-WzmeDwIdpl"
   },
   "source": [
    "# 2. Load Dataset (e.g., CIFAR-10)"
   ]
  },
  {
   "cell_type": "code",
   "execution_count": null,
   "metadata": {
    "id": "k44e2j4xXphJ"
   },
   "outputs": [],
   "source": [
    "transform = transforms.Compose([\n",
    "    transforms.Resize(256),\n",
    "    transforms.CenterCrop(224),\n",
    "    transforms.ToTensor(),\n",
    "    transforms.Normalize(mean=[0.485, 0.456, 0.406],\n",
    "                         std=[0.229, 0.224, 0.225])\n",
    "])\n",
    "\n",
    "test_dataset = CIFAR10(root='./data', train=False, download=True, transform=transform)\n",
    "sample_indices = random.sample(range(len(test_dataset)), 1000)\n",
    "test_subset = Subset(test_dataset, sample_indices)\n",
    "test_loader = DataLoader(test_subset, batch_size=32, shuffle=False)"
   ]
  },
  {
   "cell_type": "markdown",
   "metadata": {
    "id": "0YMYGUv2IrmB"
   },
   "source": [
    "# 3. AlexNet"
   ]
  },
  {
   "cell_type": "markdown",
   "metadata": {
    "id": "8Q_eFTTPKSOm"
   },
   "source": [
    "## Set Up Pretrained AlexNet"
   ]
  },
  {
   "cell_type": "code",
   "execution_count": null,
   "metadata": {
    "id": "ZnGbGC-xItlT"
   },
   "outputs": [],
   "source": [
    "alexnet = models.alexnet(pretrained=True)\n",
    "alexnet.eval()\n",
    "alexnet.to(device)"
   ]
  },
  {
   "cell_type": "markdown",
   "metadata": {
    "id": "0gz798ZAJWLg"
   },
   "source": [
    "## Evaluate AlexNet + Extract Features"
   ]
  },
  {
   "cell_type": "code",
   "execution_count": null,
   "metadata": {
    "id": "VBh5RO9UI7lv"
   },
   "outputs": [],
   "source": [
    "alexnet_correct = 0\n",
    "alexnet_total = 0\n",
    "features_list = []\n",
    "labels_list = []\n",
    "\n",
    "with torch.no_grad():\n",
    "    for images, labels in test_loader:\n",
    "        images = images.to(device)\n",
    "        labels = labels.to(device)\n",
    "\n",
    "        outputs = alexnet(images)\n",
    "        _, preds = torch.max(outputs, 1)\n",
    "        alexnet_total += labels.size(0)\n",
    "        alexnet_correct += (preds == labels).sum().item()\n",
    "\n",
    "        # Extract penultimate layer features\n",
    "        penultimate = alexnet.classifier[:-1]\n",
    "        feats = penultimate(alexnet.features(images).view(images.size(0), -1))\n",
    "        features_list.append(feats.cpu().numpy())\n",
    "        labels_list.append(labels.cpu().numpy())\n",
    "\n",
    "alexnet_accuracy = alexnet_correct / alexnet_total\n",
    "print(f\"AlexNet Accuracy: {alexnet_accuracy:.4f}\")"
   ]
  },
  {
   "cell_type": "markdown",
   "metadata": {
    "id": "BrOoLOz2JHsN"
   },
   "source": [
    "# 4. SVM"
   ]
  },
  {
   "cell_type": "markdown",
   "metadata": {
    "id": "TXu0loc6KDDU"
   },
   "source": [
    "## Prepare Features for SVM\n",
    "\n"
   ]
  },
  {
   "cell_type": "code",
   "execution_count": 9,
   "metadata": {
    "executionInfo": {
     "elapsed": 77,
     "status": "ok",
     "timestamp": 1750792848207,
     "user": {
      "displayName": "Muadh Mazahir",
      "userId": "10022503320677303432"
     },
     "user_tz": -60
    },
    "id": "S1YBnEpOJLF7"
   },
   "outputs": [],
   "source": [
    "X = np.vstack(features_list)\n",
    "y = np.hstack(labels_list)\n",
    "\n",
    "scaler = StandardScaler()\n",
    "X_scaled = scaler.fit_transform(X)"
   ]
  },
  {
   "cell_type": "markdown",
   "metadata": {
    "id": "jy2PZA96KIOb"
   },
   "source": [
    "## Train + Evaluate SVM"
   ]
  },
  {
   "cell_type": "code",
   "execution_count": null,
   "metadata": {
    "id": "PdvEywCCKbt7"
   },
   "outputs": [],
   "source": [
    "svm = SVC(kernel='linear')\n",
    "svm.fit(X_scaled, y)\n",
    "y_pred = svm.predict(X_scaled)\n",
    "svm_accuracy = accuracy_score(y, y_pred)\n",
    "print(f\"SVM Accuracy (on same features): {svm_accuracy:.4f}\")"
   ]
  },
  {
   "cell_type": "markdown",
   "metadata": {
    "id": "ris3Q0StK8bL"
   },
   "source": [
    "# 5. Comparison"
   ]
  },
  {
   "cell_type": "code",
   "execution_count": null,
   "metadata": {
    "id": "RbhmWqjTLEfs"
   },
   "outputs": [],
   "source": [
    "if alexnet_accuracy > svm_accuracy:\n",
    "    print(\"✅ AlexNet outperforms the SVM.\")\n",
    "else:\n",
    "    print(\"⚠️ SVM performs comparably or better (unexpected).\")"
   ]
  },
  {
   "cell_type": "markdown",
   "metadata": {
    "id": "UNZQC7TXJ_HX"
   },
   "source": []
  }
 ],
 "metadata": {
  "colab": {
   "authorship_tag": "ABX9TyPEyEvLZjOqnbbvtMANT0IO",
   "provenance": []
  },
  "kernelspec": {
   "display_name": "Python 3",
   "name": "python3"
  },
  "language_info": {
   "name": "python"
  }
 },
 "nbformat": 4,
 "nbformat_minor": 0
}
